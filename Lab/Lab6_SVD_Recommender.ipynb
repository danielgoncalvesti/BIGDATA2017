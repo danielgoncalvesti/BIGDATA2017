{
 "cells": [
  {
   "cell_type": "markdown",
   "metadata": {},
   "source": [
    "![CMCC](http://cmcc.ufabc.edu.br/images/logo_site.jpg)\n",
    "\n",
    "# **Lab 6 - Fatoração de Matriz para Sistemas de Recomendação**\n",
    "\n",
    "#### Quando sua base de dados é representada por uma matriz esparsa e sua tarefa é predizer valores faltantes dessa matriz, um algoritmo frequentemente utilizado é a Fatoração de Matriz.\n",
    "\n",
    "#### Neste notebook vamos utilizar a base de dados de notas de filmes do Movielens em que nos é fornecido uma sequência de tuplas do tipo (usuário, filme, nota) que formam uma matriz esparsa usuários x filmes. O intuito é determinar duas matrizes Usuários x Atributos e Filmes x Atributos que, ao serem multiplicadas, recupera a matriz original.\n",
    "\n",
    "#### As células-exercícios iniciam com o comentário `# EXERCICIO` e os códigos a serem completados estão marcados pelos comentários `<COMPLETAR>`.\n",
    "\n",
    "#### ** Nesse notebook: **\n",
    "#### *Parte 1:* Fatoração da Matriz de Ratings"
   ]
  },
  {
   "cell_type": "markdown",
   "metadata": {},
   "source": [
    "### **Parte 1: Fatoração da Matriz de Ratings**\n",
    "\n",
    "#### Cada linha da base do Movielens é representado por id_usuario::id_filme::nota::timestamp, adicionalmente possuímos uma base de dados com informação dos filmes: id_filme::nome::generos.\n",
    "\n",
    "#### **(1a) Funções de parsing**\n",
    "\n",
    "#### Para aplicar o algoritmo ALS, visto em aula, precisamos de uma RDD de tuplas do tipo `Rating(usuario,item,nota)`.\n",
    "\n",
    "#### Como primeira tarefa, complete as funções `parseRatingsRDD` para gerar a tupla de Ratings e `parseMoviesRDD` para gerar uma RDD de tuplas (id_filme, nome) que será utilizada posteriormente."
   ]
  },
  {
   "cell_type": "code",
   "execution_count": null,
   "metadata": {
    "collapsed": false
   },
   "outputs": [],
   "source": [
    "# EXERCICIO\n",
    "import os\n",
    "import numpy as np\n",
    "from pyspark.mllib.recommendation import ALS, Rating\n",
    "\n",
    "def parseRatingsRDD(point):\n",
    "    \"\"\" Parser for the current dataset. It receives a data point and return\n",
    "        a sentence (third field).\n",
    "    Args:\n",
    "        point (str): input data point\n",
    "    Returns:\n",
    "        str: a string\n",
    "    \"\"\"    \n",
    "    <COMPLETAR>\n",
    "    return <COMPLETAR>\n",
    "\n",
    "def parseMoviesRDD(point):\n",
    "    data = <COMPLETAR>\n",
    "    return <COMPLETAR>\n",
    "\n",
    "filename = os.path.join(\"Data\",\"Aula06\",\"ratings.dat\")\n",
    "ratingsRDD = (sc.textFile(filename,2)\n",
    "              .map(parseRatingsRDD)\n",
    "              )\n",
    "print 'Exemplo de rating {}'.format(ratingsRDD.take(1)[0])\n",
    "\n",
    "filename = os.path.join(\"Data\",\"Aula06\",\"movies.dat\")\n",
    "moviesRDD = (sc.textFile(filename,2)\n",
    "          .map(parseMoviesRDD)\n",
    "          )\n",
    "print 'Exemplo de filme: {}'.format(moviesRDD.take(1)[0])"
   ]
  },
  {
   "cell_type": "code",
   "execution_count": null,
   "metadata": {
    "collapsed": false
   },
   "outputs": [],
   "source": [
    "assert ratingsRDD.take(1)[0]==Rating(user=1, product=1193, rating=5.0), 'valores incorretos'\n",
    "print 'ok!'\n",
    "assert moviesRDD.take(1)[0][1]==u'Toy Story (1995)','valores incorretos'\n",
    "print 'ok!'"
   ]
  },
  {
   "cell_type": "markdown",
   "metadata": {},
   "source": [
    "#### **(1b) Geração de um Baseline**\n",
    "\n",
    "#### Como próximo passo, vamos separar a base de ratings em Treino, Validação e Teste para comparar com um baseline"
   ]
  },
  {
   "cell_type": "code",
   "execution_count": null,
   "metadata": {
    "collapsed": false
   },
   "outputs": [],
   "source": [
    "weights = [.8, .1, .1]\n",
    "seed = 42\n",
    "parsedTrainData, parsedValData, parsedTestData = ratingsRDD.randomSplit(weights, seed)\n",
    "\n",
    "parsedTrainData.cache()\n",
    "parsedValData.cache()\n",
    "parsedTestData.cache()\n",
    "\n",
    "print 'Traininig examples: {}'.format(parsedTrainData.count())\n",
    "print 'Validation examples: {}'.format(parsedValData.count())\n",
    "print 'Test examples: {}'.format(parsedTestData.count())"
   ]
  },
  {
   "cell_type": "markdown",
   "metadata": {},
   "source": [
    "#### Na célula seguinte complete o código para calcular o baseline para nosso sistema. Primeiro calcule o total de registros na matriz de treino e calcule a nota média dada pelos usuários."
   ]
  },
  {
   "cell_type": "code",
   "execution_count": null,
   "metadata": {
    "collapsed": true
   },
   "outputs": [],
   "source": [
    "# EXERCICIO\n",
    "totalTrain = parsedTrainData.<COMPLETAR>\n",
    "average = parsedTrainData.<COMPLETAR>"
   ]
  },
  {
   "cell_type": "code",
   "execution_count": null,
   "metadata": {
    "collapsed": false
   },
   "outputs": [],
   "source": [
    "assert totalTrain==799676, 'valores incorretos'\n",
    "print 'ok'\n",
    "assert np.abs(average-3.58228)<1e-5, 'valores incorretos'\n",
    "print 'ok'"
   ]
  },
  {
   "cell_type": "markdown",
   "metadata": {},
   "source": [
    "#### Agora, calcule o RMSE para predições utilizando a média na base de validação. Transforme a base de dados de validação para aplicar calcular a média dos erros quadráticos de predição."
   ]
  },
  {
   "cell_type": "code",
   "execution_count": null,
   "metadata": {
    "collapsed": false
   },
   "outputs": [],
   "source": [
    "# EXERCICIO\n",
    "totalVal = parsedValData.<COMPLETAR>\n",
    "\n",
    "rmseBase = (parsedValData\n",
    "            .<COMPLETAR>\n",
    "            .<COMPLETAR>\n",
    "           )/float(totalVal)\n",
    "\n",
    "print rmseBase"
   ]
  },
  {
   "cell_type": "code",
   "execution_count": null,
   "metadata": {
    "collapsed": false
   },
   "outputs": [],
   "source": [
    "assert np.abs(rmseBase-1.253629)<1e-6, 'valores incorretos'\n",
    "print 'ok'"
   ]
  },
  {
   "cell_type": "markdown",
   "metadata": {},
   "source": [
    "#### **(1c) Treinando o modelo**\n",
    "\n",
    "#### Como próximo passo, vamos utilizar a função `ALS` para treinar nossa base de dados, um dos parâmetros de interesse é o rank da matriz decomposta, ela indica quantos atributos latentes o algoritmo irá buscar dentro da matriz original.\n",
    "\n",
    "#### Utilize um grid search para investigar qual, entre os valores [5, 10, 50] gera o melhor resultado de validação. Não se esqueça de passar o parâmetro seed com valor igual a 42."
   ]
  },
  {
   "cell_type": "code",
   "execution_count": null,
   "metadata": {
    "collapsed": false
   },
   "outputs": [],
   "source": [
    "# EXERCICIO\n",
    "bestRMSE = 10.\n",
    "\n",
    "def ratings2Tuple(x):\n",
    "    return ((x.user,x.product),x.rating)\n",
    "\n",
    "for rank in <COMPLETAR>:\n",
    "    model = ALS.train(parsedTrainData, rank, seed=seed)\n",
    "    predictions = model.predictAll( parsedValData.map(lambda x: (x.user,x.product)) )\n",
    "    trueVsPred = (parsedValData\n",
    "                  .<COMPLETAR>\n",
    "                  .<COMPLETAR>\n",
    "                 )\n",
    "    rmse = (trueVsPred\n",
    "            .<COMPLETAR>\n",
    "            .<COMPLETAR>\n",
    "           )/float(totalVal)\n",
    "    print 'RMSE with rank {}: {:.4f}'.format(rank,rmse)\n",
    "    if rmse < bestRMSE:\n",
    "        bestModel = model\n",
    "        bestRMSE = rmse"
   ]
  },
  {
   "cell_type": "code",
   "execution_count": null,
   "metadata": {
    "collapsed": false
   },
   "outputs": [],
   "source": [
    "assert np.abs(bestRMSE-0.7734)<1e-4,'valores incorretos'\n",
    "print 'ok'"
   ]
  },
  {
   "cell_type": "markdown",
   "metadata": {},
   "source": [
    "#### **(1d) Resultados na base teste**\n",
    "\n",
    "#### Aplique o modelo Baseline e o melhor modelo do [ALS](https://spark.apache.org/docs/latest/api/python/pyspark.mllib.html#module-pyspark.mllib.recommendation) na base de testes e compare o resultado."
   ]
  },
  {
   "cell_type": "code",
   "execution_count": null,
   "metadata": {
    "collapsed": false
   },
   "outputs": [],
   "source": [
    "# EXERCICIO\n",
    "totalTest = parsedTestData.<COMPLETAR>\n",
    "\n",
    "rmseBaseTest = (parsedTestData\n",
    "                .<COMPLETAR>\n",
    "                .<COMPLETAR>\n",
    "               )/float(totalTest)\n",
    "\n",
    "predictions = bestModel.predictAll(<COMPLETAR>)\n",
    "trueVsPred = (parsedTestData\n",
    "              .<COMPLETAR>\n",
    "              .<COMPLETAR>\n",
    "             )\n",
    "rmseALSTest = (trueVsPred\n",
    "               .<COMPLETAR>\n",
    "               .<COMPLETAR>\n",
    "               )/float(totalTest)\n",
    "\n",
    "print 'Baseline RMSE: {:.4f}, ALS RMSE: {:.4f}'.format(rmseBaseTest,rmseALSTest)"
   ]
  },
  {
   "cell_type": "code",
   "execution_count": null,
   "metadata": {
    "collapsed": false
   },
   "outputs": [],
   "source": [
    "assert np.allclose(rmseBaseTest,1.2576), 'valores incorretos'\n",
    "print 'ok'\n",
    "assert np.abs(rmseALSTest-0.7763)<1e-4, 'valores incorretos'\n",
    "print 'ok'"
   ]
  },
  {
   "cell_type": "code",
   "execution_count": null,
   "metadata": {
    "collapsed": false
   },
   "outputs": [],
   "source": [
    "id2movie = moviesRDD.collectAsMap()\n",
    "countMovies = (predictions\n",
    "                  .map(lambda x: (id2movie[x.product],1.))\n",
    "                  .reduceByKey(lambda x,y: x+y)\n",
    "                 ).collectAsMap()\n",
    "\n",
    "avgMoviesRDD = (predictions\n",
    "                .map(lambda x: (id2movie[x.product], x.rating))\n",
    "                .reduceByKey(lambda x,y: x+y)\n",
    "                .map(lambda x: (x[0],x[1]/countMovies[x[0]]))\n",
    "                )\n",
    "for t in avgMoviesRDD.take(10):\n",
    "    print 'Avg. predicted rating for {}: {:.2f}'.format(t[0],t[1])"
   ]
  },
  {
   "cell_type": "code",
   "execution_count": null,
   "metadata": {
    "collapsed": true
   },
   "outputs": [],
   "source": []
  }
 ],
 "metadata": {
  "kernelspec": {
   "display_name": "Python 2",
   "language": "python",
   "name": "python2"
  },
  "language_info": {
   "codemirror_mode": {
    "name": "ipython",
    "version": 2
   },
   "file_extension": ".py",
   "mimetype": "text/x-python",
   "name": "python",
   "nbconvert_exporter": "python",
   "pygments_lexer": "ipython2",
   "version": "2.7.6"
  }
 },
 "nbformat": 4,
 "nbformat_minor": 0
}

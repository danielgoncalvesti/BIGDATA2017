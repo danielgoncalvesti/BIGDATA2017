{
 "cells": [
  {
   "attachments": {
    "pagerank_teste.png": {
     "image/png": "[encoded data removed]"
    }
   },
   "cell_type": "markdown",
   "metadata": {},
   "source": [
    "## Implementação do Algoritmo PageRank\n",
    "![pagerank_teste.png](attachment:pagerank_teste.png)"
   ]
  },
  {
   "cell_type": "code",
   "execution_count": 241,
   "metadata": {},
   "outputs": [],
   "source": [
    "import pandas as pd\n",
    "import networkx as nx\n",
    "import pyensae\n",
    "import pyquickhelper"
   ]
  },
  {
   "cell_type": "code",
   "execution_count": 242,
   "metadata": {},
   "outputs": [
    {
     "data": {
      "text/html": [
       "<div>\n",
       "<style scoped>\n",
       "    .dataframe tbody tr th:only-of-type {\n",
       "        vertical-align: middle;\n",
       "    }\n",
       "\n",
       "    .dataframe tbody tr th {\n",
       "        vertical-align: top;\n",
       "    }\n",
       "\n",
       "    .dataframe thead th {\n",
       "        text-align: right;\n",
       "    }\n",
       "</style>\n",
       "<table border=\"1\" class=\"dataframe\">\n",
       "  <thead>\n",
       "    <tr style=\"text-align: right;\">\n",
       "      <th></th>\n",
       "      <th>from</th>\n",
       "      <th>to</th>\n",
       "    </tr>\n",
       "  </thead>\n",
       "  <tbody>\n",
       "    <tr>\n",
       "      <th>0</th>\n",
       "      <td>A</td>\n",
       "      <td>C</td>\n",
       "    </tr>\n",
       "    <tr>\n",
       "      <th>1</th>\n",
       "      <td>B</td>\n",
       "      <td>C</td>\n",
       "    </tr>\n",
       "    <tr>\n",
       "      <th>2</th>\n",
       "      <td>C</td>\n",
       "      <td>A</td>\n",
       "    </tr>\n",
       "    <tr>\n",
       "      <th>3</th>\n",
       "      <td>A</td>\n",
       "      <td>B</td>\n",
       "    </tr>\n",
       "  </tbody>\n",
       "</table>\n",
       "</div>"
      ],
      "text/plain": [
       "  from to\n",
       "0    A  C\n",
       "1    B  C\n",
       "2    C  A\n",
       "3    A  B"
      ]
     },
     "execution_count": 242,
     "metadata": {},
     "output_type": "execute_result"
    }
   ],
   "source": [
    "example = pd.read_csv(\"data/web-Google-test.txt\",sep = \"\\t\", names=['from','to'])\n",
    "example"
   ]
  },
  {
   "cell_type": "code",
   "execution_count": 243,
   "metadata": {},
   "outputs": [
    {
     "data": {
      "text/plain": [
       "<networkx.classes.digraph.DiGraph at 0x7f444c335908>"
      ]
     },
     "execution_count": 243,
     "metadata": {},
     "output_type": "execute_result"
    }
   ],
   "source": [
    "G = nx.from_pandas_dataframe(example, 'from', 'to',create_using=nx.DiGraph())\n",
    "G"
   ]
  },
  {
   "cell_type": "code",
   "execution_count": 244,
   "metadata": {},
   "outputs": [],
   "source": [
    "import matplotlib as mp\n",
    "%matplotlib inline "
   ]
  },
  {
   "cell_type": "code",
   "execution_count": 245,
   "metadata": {},
   "outputs": [
    {
     "data": {
      "image/png": "[encoded data removed]",
      "text/plain": [
       "<matplotlib.figure.Figure at 0x7f444c4cd780>"
      ]
     },
     "metadata": {},
     "output_type": "display_data"
    }
   ],
   "source": [
    "import matplotlib.pyplot as plt\n",
    "nx.draw_networkx(G, node_color = 'lightblue', node_size = 1000,arrows=True)\n",
    "plt.show()"
   ]
  },
  {
   "cell_type": "code",
   "execution_count": 246,
   "metadata": {},
   "outputs": [],
   "source": [
    "from operator import add\n",
    "sc = SparkContext.getOrCreate()"
   ]
  },
  {
   "cell_type": "code",
   "execution_count": 247,
   "metadata": {},
   "outputs": [],
   "source": [
    "diretorio_base = os.path.join('data')\n",
    "caminho_teste = os.path.join('web-Google-test.txt')\n",
    "arquivo_teste = os.path.join(diretorio_base, caminho_teste)"
   ]
  },
  {
   "cell_type": "code",
   "execution_count": 248,
   "metadata": {},
   "outputs": [],
   "source": [
    "def atualizaRank(listaUrls, rank):\n",
    "    num_urls = len(listaUrls)\n",
    "    rankAtualizado = []\n",
    "    for x in listaUrls:\n",
    "        rankAtualizado.append((x, (rank / num_urls)))\n",
    "    return rankAtualizado"
   ]
  },
  {
   "cell_type": "code",
   "execution_count": 249,
   "metadata": {},
   "outputs": [],
   "source": [
    "#numPartitions = 2\n",
    "#rawData = sc.textFile(fileName, numPartitions)\n",
    "linksGoogle_teste = sc.textFile(arquivo_teste).filter(lambda x: \"#\" not in x).map(lambda x: x.split(\"\\t\"))"
   ]
  },
  {
   "cell_type": "code",
   "execution_count": 250,
   "metadata": {},
   "outputs": [],
   "source": [
    "linksAgrupados_teste = linksGoogle_teste.groupByKey().cache()\n",
    "#print(linksAgrupados.take(1))\n",
    "#for it in linksAgrupados.take(1)[0][1]:\n",
    "#  print(it)\n"
   ]
  },
  {
   "cell_type": "code",
   "execution_count": 251,
   "metadata": {},
   "outputs": [],
   "source": [
    "ranks_teste = linksAgrupados_teste.map(lambda url_agrupados: (url_agrupados[0], 1.0))"
   ]
  },
  {
   "cell_type": "code",
   "execution_count": 252,
   "metadata": {},
   "outputs": [],
   "source": [
    "for x in range(0,4):\n",
    "    # Adiciona ranks inicializados com 1.0 na posição [1][1] da matriz\n",
    "    agrupaIdLinkComRank_teste = linksAgrupados_teste .join(ranks_teste)\\\n",
    "                .flatMap(lambda url_rank: atualizaRank(url_rank[1][0], url_rank[1][1]))\n",
    "    # Soma os valores com o mesmo id e adiciona o fator de normalização\n",
    "    ranks_teste = agrupaIdLinkComRank_teste.reduceByKey(add)\\\n",
    "                                .mapValues(lambda rankFatorD: (rankFatorD * 0.85) + 0.15)\n"
   ]
  },
  {
   "cell_type": "code",
   "execution_count": 253,
   "metadata": {},
   "outputs": [
    {
     "name": "stdout",
     "output_type": "stream",
     "text": [
      "ID: C  Ranking: 1.2172812499999996.\n",
      "ID: A  Ranking: 1.1846890624999995.\n",
      "ID: B  Ranking: 0.5980296875.\n"
     ]
    }
   ],
   "source": [
    "for (link, rank) in ranks_teste.sortBy(lambda x:-x[1]).take(3):\n",
    "    print(\"ID: %s  Ranking: %s.\" % (link, rank))"
   ]
  },
  {
   "cell_type": "code",
   "execution_count": 254,
   "metadata": {},
   "outputs": [],
   "source": [
    "diretorio_base = os.path.join('data')\n",
    "caminho = os.path.join('web-Google.txt')\n",
    "arquivo = os.path.join(diretorio_base, caminho)"
   ]
  },
  {
   "cell_type": "code",
   "execution_count": 255,
   "metadata": {},
   "outputs": [],
   "source": [
    "linksGoogle = sc.textFile(arquivo).filter(lambda x: \"#\" not in x).map(lambda x: x.split(\"\\t\"))"
   ]
  },
  {
   "cell_type": "code",
   "execution_count": 256,
   "metadata": {},
   "outputs": [],
   "source": [
    "linksAgrupados = linksGoogle.groupByKey().cache()"
   ]
  },
  {
   "cell_type": "code",
   "execution_count": 257,
   "metadata": {},
   "outputs": [],
   "source": [
    "ranks = linksAgrupados.map(lambda url_agrupados: (url_agrupados[0], 1.0))"
   ]
  },
  {
   "cell_type": "code",
   "execution_count": 258,
   "metadata": {},
   "outputs": [],
   "source": [
    "for x in range(0,4):\n",
    "    # Adiciona ranks inicializados com 1.0 na posição [1][1] da matriz\n",
    "    agrupaIdLinkComRank = linksAgrupados.join(ranks)\\\n",
    "                .flatMap(lambda url_rank: atualizaRank(url_rank[1][0], url_rank[1][1]))\n",
    "    # Soma os valores com o mesmo id e adiciona o fator de normalização\n",
    "    ranks = agrupaIdLinkComRank.reduceByKey(add)\\\n",
    "                                .mapValues(lambda rankFatorD: (rankFatorD * 0.85) + 0.15)"
   ]
  },
  {
   "cell_type": "code",
   "execution_count": 259,
   "metadata": {},
   "outputs": [
    {
     "name": "stdout",
     "output_type": "stream",
     "text": [
      "ID: 41909  Ranking: 544.7603838034137.\n",
      "ID: 597621  Ranking: 516.1309386870741.\n",
      "ID: 163075  Ranking: 497.7467250780177.\n",
      "ID: 537039  Ranking: 497.4740498388902.\n",
      "ID: 504140  Ranking: 463.95573700598715.\n",
      "ID: 486980  Ranking: 462.6783661013936.\n",
      "ID: 384666  Ranking: 454.26555915438047.\n",
      "ID: 605856  Ranking: 446.3169809256028.\n",
      "ID: 558791  Ranking: 437.19442425986136.\n",
      "ID: 751384  Ranking: 432.2292514989112.\n"
     ]
    }
   ],
   "source": [
    "for (link, rank) in ranks.sortBy(lambda x:-x[1]).take(10):\n",
    "    print(\"ID: %s  Ranking: %s.\" % (link, rank))"
   ]
  },
  {
   "cell_type": "code",
   "execution_count": null,
   "metadata": {},
   "outputs": [],
   "source": []
  }
 ],
 "metadata": {
  "kernelspec": {
   "display_name": "Python 3",
   "language": "python",
   "name": "python3"
  },
  "language_info": {
   "codemirror_mode": {
    "name": "ipython",
    "version": 3
   },
   "file_extension": ".py",
   "mimetype": "text/x-python",
   "name": "python",
   "nbconvert_exporter": "python",
   "pygments_lexer": "ipython3",
   "version": "3.5.2"
  }
 },
 "nbformat": 4,
 "nbformat_minor": 2
}

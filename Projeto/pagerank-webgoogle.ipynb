{
 "cells": [
  {
   "cell_type": "markdown",
   "metadata": {},
   "source": [
    "# Implementação do Algoritmo PageRank no Spark\n",
    "\n"
   ]
  },
  {
   "cell_type": "markdown",
   "metadata": {},
   "source": [
    "## Aplicação do PageRank na Base da Dados de Teste\n",
    "No código abaixo, vamos criar um exemplo de PageRank com uma base de dados simples para teste do algoritmo (4 linhas), seguindo a estrutura da figura abaixo.\n",
    "![pagerank_example](pictures/pagerank_teste.png \"Figura 1\")"
   ]
  },
  {
   "cell_type": "code",
   "execution_count": 21,
   "metadata": {},
   "outputs": [],
   "source": [
    "import pandas as pd\n",
    "import networkx as nx\n",
    "import pyensae\n",
    "import pyquickhelper"
   ]
  },
  {
   "cell_type": "markdown",
   "metadata": {},
   "source": [
    "### Base de Teste"
   ]
  },
  {
   "cell_type": "code",
   "execution_count": 22,
   "metadata": {},
   "outputs": [
    {
     "data": {
      "text/html": [
       "<div>\n",
       "<style scoped>\n",
       "    .dataframe tbody tr th:only-of-type {\n",
       "        vertical-align: middle;\n",
       "    }\n",
       "\n",
       "    .dataframe tbody tr th {\n",
       "        vertical-align: top;\n",
       "    }\n",
       "\n",
       "    .dataframe thead th {\n",
       "        text-align: right;\n",
       "    }\n",
       "</style>\n",
       "<table border=\"1\" class=\"dataframe\">\n",
       "  <thead>\n",
       "    <tr style=\"text-align: right;\">\n",
       "      <th></th>\n",
       "      <th>from</th>\n",
       "      <th>to</th>\n",
       "    </tr>\n",
       "  </thead>\n",
       "  <tbody>\n",
       "    <tr>\n",
       "      <th>0</th>\n",
       "      <td>A</td>\n",
       "      <td>C</td>\n",
       "    </tr>\n",
       "    <tr>\n",
       "      <th>1</th>\n",
       "      <td>B</td>\n",
       "      <td>C</td>\n",
       "    </tr>\n",
       "    <tr>\n",
       "      <th>2</th>\n",
       "      <td>C</td>\n",
       "      <td>A</td>\n",
       "    </tr>\n",
       "    <tr>\n",
       "      <th>3</th>\n",
       "      <td>A</td>\n",
       "      <td>B</td>\n",
       "    </tr>\n",
       "  </tbody>\n",
       "</table>\n",
       "</div>"
      ],
      "text/plain": [
       "  from to\n",
       "0    A  C\n",
       "1    B  C\n",
       "2    C  A\n",
       "3    A  B"
      ]
     },
     "execution_count": 22,
     "metadata": {},
     "output_type": "execute_result"
    }
   ],
   "source": [
    "example = pd.read_csv(\"data/web-Google-test.txt\",sep = \"\\t\", names=['from','to'])\n",
    "example"
   ]
  },
  {
   "cell_type": "code",
   "execution_count": 23,
   "metadata": {},
   "outputs": [],
   "source": [
    "G = nx.from_pandas_dataframe(example, 'from', 'to',create_using=nx.DiGraph())"
   ]
  },
  {
   "cell_type": "code",
   "execution_count": 24,
   "metadata": {},
   "outputs": [],
   "source": [
    "import matplotlib as mp\n",
    "%matplotlib inline "
   ]
  },
  {
   "cell_type": "markdown",
   "metadata": {},
   "source": [
    "### Grafo (Relacionamento dos Vértices)"
   ]
  },
  {
   "cell_type": "code",
   "execution_count": 25,
   "metadata": {},
   "outputs": [
    {
     "data": {
      "image/png": "[encoded data removed]",
      "text/plain": [
       "<matplotlib.figure.Figure at 0x7efdae6e2668>"
      ]
     },
     "metadata": {},
     "output_type": "display_data"
    }
   ],
   "source": [
    "import matplotlib.pyplot as plt\n",
    "nx.draw_networkx(G, node_color = 'lightgreen', node_size = 1000,arrows=True)\n",
    "plt.savefig('pictures/graph_example.png')\n"
   ]
  },
  {
   "cell_type": "code",
   "execution_count": 26,
   "metadata": {},
   "outputs": [],
   "source": [
    "from operator import add\n",
    "sc = SparkContext.getOrCreate()"
   ]
  },
  {
   "cell_type": "code",
   "execution_count": 27,
   "metadata": {},
   "outputs": [],
   "source": [
    "diretorio_base = os.path.join('data')\n",
    "caminho_teste = os.path.join('web-Google-test.txt')\n",
    "arquivo_teste = os.path.join(diretorio_base, caminho_teste)"
   ]
  },
  {
   "cell_type": "code",
   "execution_count": 28,
   "metadata": {},
   "outputs": [],
   "source": [
    "def atualizaRank(listaUrls, rank):\n",
    "    num_urls = len(listaUrls)\n",
    "    rankAtualizado = []\n",
    "    for x in listaUrls:\n",
    "        rankAtualizado.append((x, (rank / num_urls)))\n",
    "    return rankAtualizado"
   ]
  },
  {
   "cell_type": "code",
   "execution_count": 29,
   "metadata": {},
   "outputs": [],
   "source": [
    "#numPartitions = 2\n",
    "#rawData = sc.textFile(fileName, numPartitions)\n",
    "linksGoogle_teste = sc.textFile(arquivo_teste).filter(lambda x: \"#\" not in x).map(lambda x: x.split(\"\\t\"))"
   ]
  },
  {
   "cell_type": "code",
   "execution_count": 30,
   "metadata": {},
   "outputs": [],
   "source": [
    "linksAgrupados_teste = linksGoogle_teste.groupByKey().cache()\n",
    "#print(linksAgrupados.take(1))\n",
    "#for it in linksAgrupados.take(1)[0][1]:\n",
    "#  print(it)\n"
   ]
  },
  {
   "cell_type": "code",
   "execution_count": 31,
   "metadata": {},
   "outputs": [],
   "source": [
    "ranks_teste = linksAgrupados_teste.map(lambda url_agrupados: (url_agrupados[0], 1.0))"
   ]
  },
  {
   "cell_type": "code",
   "execution_count": 32,
   "metadata": {},
   "outputs": [],
   "source": [
    "for x in range(1,2):\n",
    "    # Adiciona ranks inicializados com 1.0 na posição [1][1] da matriz\n",
    "    agrupaIdLinkComRank_teste = linksAgrupados_teste .join(ranks_teste)\\\n",
    "                .flatMap(lambda url_rank: atualizaRank(url_rank[1][0], url_rank[1][1]))\n",
    "    # Soma os valores com o mesmo id e adiciona o fator de normalização\n",
    "    ranks_teste = agrupaIdLinkComRank_teste.reduceByKey(add)\\\n",
    "                                .mapValues(lambda rankFatorD: (rankFatorD * 0.85) + 0.15)\n"
   ]
  },
  {
   "cell_type": "markdown",
   "metadata": {},
   "source": [
    "### Resultado do Teste:"
   ]
  },
  {
   "cell_type": "code",
   "execution_count": 33,
   "metadata": {},
   "outputs": [
    {
     "name": "stdout",
     "output_type": "stream",
     "text": [
      "ID: C  Ranking: 1.4249999999999998.\n",
      "ID: A  Ranking: 1.0.\n",
      "ID: B  Ranking: 0.575.\n"
     ]
    }
   ],
   "source": [
    "for (link, rank) in ranks_teste.sortBy(lambda x:-x[1]).take(3):\n",
    "    print(\"ID: %s  Ranking: %s.\" % (link, rank))"
   ]
  },
  {
   "cell_type": "markdown",
   "metadata": {},
   "source": [
    "## Aplicação do PageRank na Base da Dados Real (web-google.txt)\n",
    "Após o teste, vamos aplicar o algoritmo de PageRank na base de dados de referências de páginas da web (arquivo web-Google.txt) encontrada no site da [Stanford](https://snap.stanford.edu/data/web-Google.html)."
   ]
  },
  {
   "cell_type": "code",
   "execution_count": 311,
   "metadata": {},
   "outputs": [],
   "source": [
    "diretorio_base = os.path.join('data')\n",
    "caminho = os.path.join('web-Google.txt')\n",
    "arquivo = os.path.join(diretorio_base, caminho)"
   ]
  },
  {
   "cell_type": "code",
   "execution_count": 312,
   "metadata": {},
   "outputs": [],
   "source": [
    "linksGoogle = sc.textFile(arquivo).filter(lambda x: \"#\" not in x).map(lambda x: x.split(\"\\t\"))"
   ]
  },
  {
   "cell_type": "code",
   "execution_count": 313,
   "metadata": {},
   "outputs": [],
   "source": [
    "linksAgrupados = linksGoogle.groupByKey().cache()"
   ]
  },
  {
   "cell_type": "code",
   "execution_count": 314,
   "metadata": {},
   "outputs": [],
   "source": [
    "ranks = linksAgrupados.map(lambda url_agrupados: (url_agrupados[0], 1.0))"
   ]
  },
  {
   "cell_type": "code",
   "execution_count": 315,
   "metadata": {},
   "outputs": [],
   "source": [
    "for x in range(1,8):\n",
    "    # Adiciona ranks inicializados com 1.0 na posição [1][1] da matriz\n",
    "    agrupaIdLinkComRank = linksAgrupados.join(ranks)\\\n",
    "                .flatMap(lambda url_rank: atualizaRank(url_rank[1][0], url_rank[1][1]))\n",
    "    # Soma os valores com o mesmo id e adiciona o fator de normalização\n",
    "    ranks = agrupaIdLinkComRank.reduceByKey(add)\\\n",
    "                                .mapValues(lambda rankFatorD: (rankFatorD * 0.85) + 0.15)"
   ]
  },
  {
   "cell_type": "markdown",
   "metadata": {},
   "source": [
    "### Resultado das 10 primeias páginas mais relevantes:"
   ]
  },
  {
   "cell_type": "code",
   "execution_count": 316,
   "metadata": {},
   "outputs": [
    {
     "name": "stdout",
     "output_type": "stream",
     "text": [
      "ID: 41909  Ranking: 484.1108170361071.\n",
      "ID: 597621  Ranking: 443.91101174854543.\n",
      "ID: 537039  Ranking: 422.4181650873821.\n",
      "ID: 504140  Ranking: 422.3543993972619.\n",
      "ID: 384666  Ranking: 419.2951003925835.\n",
      "ID: 486980  Ranking: 415.0762289087502.\n",
      "ID: 163075  Ranking: 398.2489263636544.\n",
      "ID: 605856  Ranking: 386.11230315427656.\n",
      "ID: 751384  Ranking: 385.3404836210413.\n",
      "ID: 32163  Ranking: 384.2036138933664.\n"
     ]
    }
   ],
   "source": [
    "for (link, rank) in ranks.sortBy(lambda x:-x[1]).take(10):\n",
    "    print(\"ID: %s  Ranking: %s.\" % (link, rank))"
   ]
  }
 ],
 "metadata": {
  "kernelspec": {
   "display_name": "Python 3",
   "language": "python",
   "name": "python3"
  },
  "language_info": {
   "codemirror_mode": {
    "name": "ipython",
    "version": 3
   },
   "file_extension": ".py",
   "mimetype": "text/x-python",
   "name": "python",
   "nbconvert_exporter": "python",
   "pygments_lexer": "ipython3",
   "version": "3.5.2"
  }
 },
 "nbformat": 4,
 "nbformat_minor": 2
}

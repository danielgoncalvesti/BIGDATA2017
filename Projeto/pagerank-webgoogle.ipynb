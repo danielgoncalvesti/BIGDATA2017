{
 "cells": [
  {
   "cell_type": "code",
   "execution_count": 17,
   "metadata": {},
   "outputs": [],
   "source": [
    "from operator import add\n",
    "sc = SparkContext.getOrCreate()"
   ]
  },
  {
   "cell_type": "code",
   "execution_count": 18,
   "metadata": {},
   "outputs": [],
   "source": [
    "diretorioBase = os.path.join('data')\n",
    "caminho = os.path.join('web-Google.txt')\n",
    "arquivo = os.path.join(diretorioBase, caminho)"
   ]
  },
  {
   "cell_type": "code",
   "execution_count": 19,
   "metadata": {},
   "outputs": [],
   "source": [
    "def atualizaRank(listaUrls, rank):\n",
    "    num_urls = len(listaUrls)\n",
    "    rankAtualizado = []\n",
    "    for x in listaUrls:\n",
    "        rankAtualizado.append((x, rank / num_urls))\n",
    "    return rankAtualizado"
   ]
  },
  {
   "cell_type": "code",
   "execution_count": 20,
   "metadata": {},
   "outputs": [],
   "source": [
    "#numPartitions = 2\n",
    "#rawData = sc.textFile(fileName, numPartitions)\n",
    "linksGoogle = sc.textFile(arquivo).filter(lambda x: \"#\" not in x).map(lambda x: x.split(\"\\t\"))"
   ]
  },
  {
   "cell_type": "code",
   "execution_count": 21,
   "metadata": {},
   "outputs": [],
   "source": [
    "#print linksGoogle.count()"
   ]
  },
  {
   "cell_type": "code",
   "execution_count": 22,
   "metadata": {},
   "outputs": [],
   "source": [
    "linksAgrupados = linksGoogle.groupByKey().cache()\n",
    "#print(linksAgrupados.take(1))\n",
    "#for it in linksAgrupados.take(1)[0][1]:\n",
    "#    print(it)\n"
   ]
  },
  {
   "cell_type": "code",
   "execution_count": 23,
   "metadata": {},
   "outputs": [],
   "source": [
    "ranks = linksAgrupados.map(lambda url_agrupados: (url_agrupados[0], 1.0))"
   ]
  },
  {
   "cell_type": "code",
   "execution_count": 24,
   "metadata": {},
   "outputs": [
    {
     "name": "stdout",
     "output_type": "stream",
     "text": [
      "O id do link 163075  tem o ranking: 639.28154451.\n",
      "O id do link 597621  tem o ranking: 625.461060004.\n",
      "O id do link 537039  tem o ranking: 607.916883693.\n",
      "O id do link 885605  tem o ranking: 595.209230633.\n",
      "O id do link 41909  tem o ranking: 583.989571807.\n",
      "O id do link 837478  tem o ranking: 573.317608333.\n",
      "O id do link 551829  tem o ranking: 551.389531126.\n",
      "O id do link 605856  tem o ranking: 551.330580279.\n",
      "O id do link 504140  tem o ranking: 537.373879516.\n",
      "O id do link 407610  tem o ranking: 492.568315758.\n"
     ]
    }
   ],
   "source": [
    "for x in range(2):\n",
    "    # Adiciona ranks inicializados com 1.0 na posição [1][1] da matriz\n",
    "    agrupaIdLinkComRank = linksAgrupados.join(ranks)\n",
    "    rankAtualizado = agrupaIdLinkComRank.flatMap(lambda url_rank: atualizaRank(url_rank[1][0], url_rank[1][1]))\n",
    "    # Soma os valores com o mesmo id\n",
    "    ranks = rankAtualizado.reduceByKey(lambda x,y: x+y).mapValues(lambda rankFatorD: rankFatorD * 0.85 + 0.15)\n",
    "\n",
    "for (link, rank) in ranks.sortBy(lambda x:-x[1]).take(10):\n",
    "    print(\"O id do link %s  tem o ranking: %s.\" % (link, rank))"
   ]
  },
  {
   "cell_type": "code",
   "execution_count": null,
   "metadata": {},
   "outputs": [],
   "source": []
  },
  {
   "cell_type": "code",
   "execution_count": null,
   "metadata": {},
   "outputs": [],
   "source": []
  },
  {
   "cell_type": "code",
   "execution_count": null,
   "metadata": {},
   "outputs": [],
   "source": []
  }
 ],
 "metadata": {
  "kernelspec": {
   "display_name": "Python 2",
   "language": "python",
   "name": "python2"
  },
  "language_info": {
   "codemirror_mode": {
    "name": "ipython",
    "version": 2
   },
   "file_extension": ".py",
   "mimetype": "text/x-python",
   "name": "python",
   "nbconvert_exporter": "python",
   "pygments_lexer": "ipython2",
   "version": "2.7.12"
  }
 },
 "nbformat": 4,
 "nbformat_minor": 2
}
